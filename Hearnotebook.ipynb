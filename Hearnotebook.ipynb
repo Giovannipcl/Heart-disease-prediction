{
  "nbformat": 4,
  "nbformat_minor": 0,
  "metadata": {
    "colab": {
      "name": "Untitled0.ipynb",
      "provenance": [],
      "collapsed_sections": []
    },
    "kernelspec": {
      "name": "python3",
      "display_name": "Python 3"
    }
  },
  "cells": [
    {
      "cell_type": "markdown",
      "metadata": {
        "id": "VWGKAokiD4Pa"
      },
      "source": [
        "# Predicting Heart Disease Using Machine Learning algorithms\n",
        "\n",
        "This notebook has as the main goal classify the presence or absence of heart disease in the patient based on some factors. Some ML algorithms were used for this purpose.  \n",
        "\n",
        "Mainly topics that are involved in this notebook are:\n",
        "* Exploratory analysis\n",
        "* Preprocessing data\n",
        "* Model training\n",
        "* Modelo evaluation\n",
        "* Hyperparameter tunning (k-fold Cross Validation)\n",
        "* Modelo Comparision\n",
        "\n",
        "The dataset is popular on Kaggle, and it is available at https://www.kaggle.com/ronitf/heart-disease-uci. \n",
        "\n",
        "The dataset is relatively easy to work with since it does not have missing data and few features and observations. \n",
        "\n",
        "\n"
      ]
    },
    {
      "cell_type": "markdown",
      "metadata": {
        "id": "j8Fh0t2iIS0l"
      },
      "source": [
        "## Importing the dataset"
      ]
    },
    {
      "cell_type": "code",
      "metadata": {
        "id": "B2KM8ylppKVK"
      },
      "source": [
        "import numpy as np\n",
        "import matplotlib.pyplot as plt\n",
        "import pandas as pd\n",
        "import seaborn as sns"
      ],
      "execution_count": 17,
      "outputs": []
    },
    {
      "cell_type": "code",
      "metadata": {
        "id": "kJq5wttcrWwz"
      },
      "source": [
        "data = pd.read_csv('/content/drive/MyDrive/datasets/Heart/heart.csv')"
      ],
      "execution_count": 108,
      "outputs": []
    },
    {
      "cell_type": "code",
      "metadata": {
        "colab": {
          "base_uri": "https://localhost:8080/",
          "height": 143
        },
        "id": "buBmjZ3mrdeL",
        "outputId": "821aeb39-a656-40b3-b7c8-22dbc2524bfc"
      },
      "source": [
        "data.head(3)"
      ],
      "execution_count": 109,
      "outputs": [
        {
          "output_type": "execute_result",
          "data": {
            "text/html": [
              "<div>\n",
              "<style scoped>\n",
              "    .dataframe tbody tr th:only-of-type {\n",
              "        vertical-align: middle;\n",
              "    }\n",
              "\n",
              "    .dataframe tbody tr th {\n",
              "        vertical-align: top;\n",
              "    }\n",
              "\n",
              "    .dataframe thead th {\n",
              "        text-align: right;\n",
              "    }\n",
              "</style>\n",
              "<table border=\"1\" class=\"dataframe\">\n",
              "  <thead>\n",
              "    <tr style=\"text-align: right;\">\n",
              "      <th></th>\n",
              "      <th>age</th>\n",
              "      <th>sex</th>\n",
              "      <th>cp</th>\n",
              "      <th>trestbps</th>\n",
              "      <th>chol</th>\n",
              "      <th>fbs</th>\n",
              "      <th>restecg</th>\n",
              "      <th>thalach</th>\n",
              "      <th>exang</th>\n",
              "      <th>oldpeak</th>\n",
              "      <th>slope</th>\n",
              "      <th>ca</th>\n",
              "      <th>thal</th>\n",
              "      <th>target</th>\n",
              "    </tr>\n",
              "  </thead>\n",
              "  <tbody>\n",
              "    <tr>\n",
              "      <th>0</th>\n",
              "      <td>63</td>\n",
              "      <td>1</td>\n",
              "      <td>3</td>\n",
              "      <td>145</td>\n",
              "      <td>233</td>\n",
              "      <td>1</td>\n",
              "      <td>0</td>\n",
              "      <td>150</td>\n",
              "      <td>0</td>\n",
              "      <td>2.3</td>\n",
              "      <td>0</td>\n",
              "      <td>0</td>\n",
              "      <td>1</td>\n",
              "      <td>1</td>\n",
              "    </tr>\n",
              "    <tr>\n",
              "      <th>1</th>\n",
              "      <td>37</td>\n",
              "      <td>1</td>\n",
              "      <td>2</td>\n",
              "      <td>130</td>\n",
              "      <td>250</td>\n",
              "      <td>0</td>\n",
              "      <td>1</td>\n",
              "      <td>187</td>\n",
              "      <td>0</td>\n",
              "      <td>3.5</td>\n",
              "      <td>0</td>\n",
              "      <td>0</td>\n",
              "      <td>2</td>\n",
              "      <td>1</td>\n",
              "    </tr>\n",
              "    <tr>\n",
              "      <th>2</th>\n",
              "      <td>41</td>\n",
              "      <td>0</td>\n",
              "      <td>1</td>\n",
              "      <td>130</td>\n",
              "      <td>204</td>\n",
              "      <td>0</td>\n",
              "      <td>0</td>\n",
              "      <td>172</td>\n",
              "      <td>0</td>\n",
              "      <td>1.4</td>\n",
              "      <td>2</td>\n",
              "      <td>0</td>\n",
              "      <td>2</td>\n",
              "      <td>1</td>\n",
              "    </tr>\n",
              "  </tbody>\n",
              "</table>\n",
              "</div>"
            ],
            "text/plain": [
              "   age  sex  cp  trestbps  chol  fbs  ...  exang  oldpeak  slope  ca  thal  target\n",
              "0   63    1   3       145   233    1  ...      0      2.3      0   0     1       1\n",
              "1   37    1   2       130   250    0  ...      0      3.5      0   0     2       1\n",
              "2   41    0   1       130   204    0  ...      0      1.4      2   0     2       1\n",
              "\n",
              "[3 rows x 14 columns]"
            ]
          },
          "metadata": {
            "tags": []
          },
          "execution_count": 109
        }
      ]
    },
    {
      "cell_type": "markdown",
      "metadata": {
        "id": "i45bX_hNIpin"
      },
      "source": [
        "## Exploratory analysis"
      ]
    },
    {
      "cell_type": "code",
      "metadata": {
        "id": "OOrdMOoQI3a3"
      },
      "source": [
        "plt.style.use('ggplot')"
      ],
      "execution_count": 5,
      "outputs": []
    },
    {
      "cell_type": "code",
      "metadata": {
        "colab": {
          "base_uri": "https://localhost:8080/",
          "height": 515
        },
        "id": "R-6xcLxftutg",
        "outputId": "814681f7-278a-4539-a775-f8387e99746d"
      },
      "source": [
        "fig = plt.figure(figsize=(7,7))\n",
        "ax1 = fig.add_subplot(221)\n",
        "ax2 = fig.add_subplot(222)\n",
        "ax3 = fig.add_subplot(223)\n",
        "ax4 = fig.add_subplot(224)\n",
        "ax1.hist(data['age'], edgecolor = 'black')\n",
        "ax2.hist(data['trestbps'], edgecolor = 'black',color = 'darkred', histtype = 'barstacked')\n",
        "ax3.hist(data['chol'], edgecolor = 'black',color = 'darkgreen', histtype = 'barstacked')\n",
        "ax4.hist(data['thalach'], edgecolor = 'black',color = 'grey', histtype = 'barstacked')\n",
        "ax1.set_title('Age')\n",
        "ax1.set_xlabel('Age')\n",
        "ax1.set_ylabel('Frequency')\n",
        "ax2.set_title('Resting blood pressure')\n",
        "ax2.set_xlabel('Blood pressure')\n",
        "ax2.set_ylabel('Frequency')\n",
        "ax3.set_title('Cholestoral in mg/dl')\n",
        "ax3.set_xlabel('Cholestoral')\n",
        "ax3.set_ylabel('Frequency')\n",
        "ax4.set_title('Maximum heart rate')\n",
        "ax4.set_xlabel('Heart rate')\n",
        "ax4.set_ylabel('Frequency')\n",
        "fig.tight_layout(pad=1.0)\n",
        "plt.show()"
      ],
      "execution_count": 142,
      "outputs": [
        {
          "output_type": "display_data",
          "data": {
            "image/png": "[encoded data removed]",
            "text/plain": [
              "<Figure size 504x504 with 4 Axes>"
            ]
          },
          "metadata": {
            "tags": []
          }
        }
      ]
    },
    {
      "cell_type": "code",
      "metadata": {
        "colab": {
          "base_uri": "https://localhost:8080/"
        },
        "id": "h-ouWmPj10RB",
        "outputId": "a7b0827e-cd0f-44f1-81c4-94b31f6aad8c"
      },
      "source": [
        "cont = data['target'].value_counts()\n",
        "cont"
      ],
      "execution_count": 110,
      "outputs": [
        {
          "output_type": "execute_result",
          "data": {
            "text/plain": [
              "1    165\n",
              "0    138\n",
              "Name: target, dtype: int64"
            ]
          },
          "metadata": {
            "tags": []
          },
          "execution_count": 110
        }
      ]
    },
    {
      "cell_type": "code",
      "metadata": {
        "id": "sTTrEPoCAqvX"
      },
      "source": [
        "casos = [cont[1], cont[0]]\n",
        "lab = ['Presence', 'Absence']"
      ],
      "execution_count": 111,
      "outputs": []
    },
    {
      "cell_type": "code",
      "metadata": {
        "colab": {
          "base_uri": "https://localhost:8080/",
          "height": 265
        },
        "id": "H0F7gyid2V4n",
        "outputId": "0bb973ed-12fa-4d84-f28c-77cec5d1954b"
      },
      "source": [
        "plt.bar( lab, casos)\n",
        "plt.show()"
      ],
      "execution_count": 112,
      "outputs": [
        {
          "output_type": "display_data",
          "data": {
            "image/png": "[encoded data removed]",
            "text/plain": [
              "<Figure size 432x288 with 1 Axes>"
            ]
          },
          "metadata": {
            "tags": []
          }
        }
      ]
    },
    {
      "cell_type": "code",
      "metadata": {
        "colab": {
          "base_uri": "https://localhost:8080/"
        },
        "id": "Y1WsZ8kf2pi_",
        "outputId": "66996d27-7e8d-4c2e-9090-d11e38790988"
      },
      "source": [
        "data.isna().sum()"
      ],
      "execution_count": null,
      "outputs": [
        {
          "output_type": "execute_result",
          "data": {
            "text/plain": [
              "age         0\n",
              "sex         0\n",
              "cp          0\n",
              "trestbps    0\n",
              "chol        0\n",
              "fbs         0\n",
              "restecg     0\n",
              "thalach     0\n",
              "exang       0\n",
              "oldpeak     0\n",
              "slope       0\n",
              "ca          0\n",
              "thal        0\n",
              "target      0\n",
              "dtype: int64"
            ]
          },
          "metadata": {
            "tags": []
          },
          "execution_count": 121
        }
      ]
    },
    {
      "cell_type": "code",
      "metadata": {
        "colab": {
          "base_uri": "https://localhost:8080/",
          "height": 445
        },
        "id": "Jnejn0J-EJkf",
        "outputId": "8390801f-f500-4f93-c414-f986c4ccecf9"
      },
      "source": [
        "fig = plt.figure(figsize=(7,7))\n",
        "ax1 = fig.add_subplot(121)\n",
        "ax2 = fig.add_subplot(122)\n",
        "ax1.scatter(data['age'][data['target'] ==1], data['thalach'][data['target'] ==1], color = 'blue')\n",
        "ax1.scatter(data['age'][data['target'] ==0], data['thalach'][data['target'] ==0], color = 'red')\n",
        "ax2.scatter(data['chol'][data['target'] ==1], data['thalach'][data['target'] ==1], color = 'blue')\n",
        "ax2.scatter(data['chol'][data['target'] ==0], data['thalach'][data['target'] ==0], color = 'red')\n",
        "ax1.set_xlabel('Age')\n",
        "ax2.set_xlabel('Cholestoral')\n",
        "ax1.set_ylabel('Maximum heart rate achieved')\n",
        "plt.legend(['Disease','No disease'], fontsize = 15)\n",
        "plt.show()"
      ],
      "execution_count": 12,
      "outputs": [
        {
          "output_type": "display_data",
          "data": {
            "image/png": "[encoded data removed]",
            "text/plain": [
              "<Figure size 504x504 with 2 Axes>"
            ]
          },
          "metadata": {
            "tags": []
          }
        }
      ]
    },
    {
      "cell_type": "code",
      "metadata": {
        "colab": {
          "base_uri": "https://localhost:8080/",
          "height": 445
        },
        "id": "t5CeNbq-PaJy",
        "outputId": "a9ee555d-24b5-41ac-f7a6-f3cd8cf088ef"
      },
      "source": [
        "fig = plt.figure(figsize=(7,7))\n",
        "ax = sns.boxplot(x = data['target'], y = data['thalach'])\n",
        "ax.set(xlabel = 'Target', ylabel = 'Maximum heart rate achieved')\n",
        "plt.show()"
      ],
      "execution_count": 113,
      "outputs": [
        {
          "output_type": "display_data",
          "data": {
            "image/png": "[encoded data removed]",
            "text/plain": [
              "<Figure size 504x504 with 1 Axes>"
            ]
          },
          "metadata": {
            "tags": []
          }
        }
      ]
    },
    {
      "cell_type": "code",
      "metadata": {
        "colab": {
          "base_uri": "https://localhost:8080/",
          "height": 313
        },
        "id": "UsDR3gHmHxPn",
        "outputId": "8ab0181d-3c24-483e-e20e-f9e59502011a"
      },
      "source": [
        "pd.crosstab(data['cp'], data['target']).plot(kind = 'bar', color=['springgreen','purple'])\n",
        "plt.title('Heart Disease frequency Per chest pain')\n",
        "plt.xlabel('Chest Pain Type')\n",
        "plt.ylabel('Frequency')\n",
        "plt.legend(['No Heart Disease','Heart Disease'])\n"
      ],
      "execution_count": 114,
      "outputs": [
        {
          "output_type": "execute_result",
          "data": {
            "text/plain": [
              "<matplotlib.legend.Legend at 0x7fb336b37dd8>"
            ]
          },
          "metadata": {
            "tags": []
          },
          "execution_count": 114
        },
        {
          "output_type": "display_data",
          "data": {
            "image/png": "[encoded data removed]",
            "text/plain": [
              "<Figure size 432x288 with 1 Axes>"
            ]
          },
          "metadata": {
            "tags": []
          }
        }
      ]
    },
    {
      "cell_type": "code",
      "metadata": {
        "colab": {
          "base_uri": "https://localhost:8080/"
        },
        "id": "5XfHKdJdPO_j",
        "outputId": "e9bc92b6-2396-4f97-930c-c31f2dbb282d"
      },
      "source": [
        "data.groupby(['cp'])['target'].value_counts()"
      ],
      "execution_count": 31,
      "outputs": [
        {
          "output_type": "execute_result",
          "data": {
            "text/plain": [
              "cp  target\n",
              "0   0         104\n",
              "    1          39\n",
              "1   1          41\n",
              "    0           9\n",
              "2   1          69\n",
              "    0          18\n",
              "3   1          16\n",
              "    0           7\n",
              "Name: target, dtype: int64"
            ]
          },
          "metadata": {
            "tags": []
          },
          "execution_count": 31
        }
      ]
    },
    {
      "cell_type": "code",
      "metadata": {
        "colab": {
          "base_uri": "https://localhost:8080/",
          "height": 322
        },
        "id": "WCjLzCFAILjd",
        "outputId": "1321e5cf-c7d3-4f7b-d4f1-2208ea7a0dd5"
      },
      "source": [
        "pd.crosstab(data['sex'], data['target']).plot(kind = 'bar', color = ['black', 'grey'])\n",
        "labels = ['Female', 'Male']\n",
        "plt.title('Heart Disease frequency per sex')\n",
        "plt.xlabel('Sex')\n",
        "plt.legend(['No Heart Disease','Heart Disease'])\n",
        "locs, label = plt.xticks()\n",
        "plt.xticks(locs,labels, rotation=45, horizontalalignment='right')\n",
        "plt.show()"
      ],
      "execution_count": 115,
      "outputs": [
        {
          "output_type": "display_data",
          "data": {
            "image/png": "[encoded data removed]",
            "text/plain": [
              "<Figure size 432x288 with 1 Axes>"
            ]
          },
          "metadata": {
            "tags": []
          }
        }
      ]
    },
    {
      "cell_type": "code",
      "metadata": {
        "colab": {
          "base_uri": "https://localhost:8080/"
        },
        "id": "yaqmiWsROvKK",
        "outputId": "067b3626-da8d-47bc-e73c-24e3773d2a78"
      },
      "source": [
        "data.groupby(['sex'])['target'].value_counts()"
      ],
      "execution_count": 32,
      "outputs": [
        {
          "output_type": "execute_result",
          "data": {
            "text/plain": [
              "sex  target\n",
              "0    1          72\n",
              "     0          24\n",
              "1    0         114\n",
              "     1          93\n",
              "Name: target, dtype: int64"
            ]
          },
          "metadata": {
            "tags": []
          },
          "execution_count": 32
        }
      ]
    },
    {
      "cell_type": "markdown",
      "metadata": {
        "id": "D08wQun5SmiQ"
      },
      "source": [
        "## Preprocessing the data"
      ]
    },
    {
      "cell_type": "code",
      "metadata": {
        "id": "7NSffLDsOlM_"
      },
      "source": [
        "X = data.iloc[:,:-1].values\n",
        "y = data.iloc[:,-1].values"
      ],
      "execution_count": 116,
      "outputs": []
    },
    {
      "cell_type": "code",
      "metadata": {
        "id": "SvV7U59OPbIu"
      },
      "source": [
        "from sklearn.compose import ColumnTransformer\n",
        "from sklearn.preprocessing import OneHotEncoder\n",
        "ct = ColumnTransformer(transformers = [('encoder', OneHotEncoder(), [2,10, 11,12])], remainder = 'passthrough')"
      ],
      "execution_count": 117,
      "outputs": []
    },
    {
      "cell_type": "code",
      "metadata": {
        "id": "7xsb0dOBTE10"
      },
      "source": [
        "X = np.array(ct.fit_transform(X))"
      ],
      "execution_count": 118,
      "outputs": []
    },
    {
      "cell_type": "code",
      "metadata": {
        "id": "HQI1JXwhUqrD"
      },
      "source": [
        "from sklearn.model_selection import train_test_split \n",
        "X_train, X_test, y_train, y_test = train_test_split(X, y, test_size = 0.2, random_state = 42, stratify = y)"
      ],
      "execution_count": 119,
      "outputs": []
    },
    {
      "cell_type": "code",
      "metadata": {
        "colab": {
          "base_uri": "https://localhost:8080/"
        },
        "id": "aff8dmY5TcqX",
        "outputId": "02fb6277-7cfa-440c-ee86-a87beed01f71"
      },
      "source": [
        "print(y_train.shape)\n",
        "np.sum(y_train)"
      ],
      "execution_count": 120,
      "outputs": [
        {
          "output_type": "stream",
          "text": [
            "(242,)\n"
          ],
          "name": "stdout"
        },
        {
          "output_type": "execute_result",
          "data": {
            "text/plain": [
              "132"
            ]
          },
          "metadata": {
            "tags": []
          },
          "execution_count": 120
        }
      ]
    },
    {
      "cell_type": "code",
      "metadata": {
        "id": "L5kqRcdOVbSM"
      },
      "source": [
        "from sklearn.preprocessing import StandardScaler\n",
        "sc = StandardScaler()\n",
        "X_train[:,[16,18,19,22,24]] = sc.fit_transform(X_train[:,[16,18,19,22,24]])\n",
        "X_test[:,[16,18,19,22,24]] = sc.transform(X_test[:,[16,18,19,22,24]])"
      ],
      "execution_count": 121,
      "outputs": []
    },
    {
      "cell_type": "code",
      "metadata": {
        "id": "R2I8SCTCWLm2"
      },
      "source": [
        "from sklearn.neighbors import KNeighborsClassifier\n",
        "from sklearn.metrics import confusion_matrix, accuracy_score"
      ],
      "execution_count": 122,
      "outputs": []
    },
    {
      "cell_type": "markdown",
      "metadata": {
        "id": "lIceauI67Cpd"
      },
      "source": [
        "## KNN"
      ]
    },
    {
      "cell_type": "code",
      "metadata": {
        "colab": {
          "base_uri": "https://localhost:8080/"
        },
        "id": "pY1ZjgE8FOdU",
        "outputId": "2cc3d842-9db6-40a0-ee42-01ade633caa1"
      },
      "source": [
        "from sklearn.model_selection import cross_val_score\n",
        "for i in np.arange(4,20):\n",
        "  classifier = KNeighborsClassifier(n_neighbors = i, metric = 'minkowski', p =2)\n",
        "  accuracies = cross_val_score(estimator = classifier, X = X_train, y = y_train, cv = 5)\n",
        "  print(\"Accuracy with k = \" + str(i)+ \": %.2f\" % np.mean(accuracies))"
      ],
      "execution_count": 123,
      "outputs": [
        {
          "output_type": "stream",
          "text": [
            "Accuracy with k = 4: 0.81\n",
            "Accuracy with k = 5: 0.82\n",
            "Accuracy with k = 6: 0.81\n",
            "Accuracy with k = 7: 0.83\n",
            "Accuracy with k = 8: 0.82\n",
            "Accuracy with k = 9: 0.82\n",
            "Accuracy with k = 10: 0.83\n",
            "Accuracy with k = 11: 0.83\n",
            "Accuracy with k = 12: 0.82\n",
            "Accuracy with k = 13: 0.83\n",
            "Accuracy with k = 14: 0.81\n",
            "Accuracy with k = 15: 0.82\n",
            "Accuracy with k = 16: 0.80\n",
            "Accuracy with k = 17: 0.83\n",
            "Accuracy with k = 18: 0.82\n",
            "Accuracy with k = 19: 0.83\n"
          ],
          "name": "stdout"
        }
      ]
    },
    {
      "cell_type": "markdown",
      "metadata": {
        "id": "mj4FZrR07EyH"
      },
      "source": [
        "## Logistic  Regression"
      ]
    },
    {
      "cell_type": "code",
      "metadata": {
        "colab": {
          "base_uri": "https://localhost:8080/"
        },
        "id": "1JtlS2prWj0B",
        "outputId": "6790f729-99b2-42ba-c594-90c8fd8746f9"
      },
      "source": [
        "from sklearn.linear_model import LogisticRegression\n",
        "classifier = LogisticRegression(random_state=0)\n",
        "accuracies = cross_val_score(estimator = classifier, X = X_train, y = y_train, cv = 5)\n",
        "print(\"Accuracy: {:.2f} %\".format(accuracies.mean()*100))\n"
      ],
      "execution_count": 125,
      "outputs": [
        {
          "output_type": "stream",
          "text": [
            "Accuracy: 85.15 %\n"
          ],
          "name": "stdout"
        }
      ]
    },
    {
      "cell_type": "markdown",
      "metadata": {
        "id": "mw82sJrZ7JEx"
      },
      "source": [
        "## Support Vector Machine"
      ]
    },
    {
      "cell_type": "code",
      "metadata": {
        "colab": {
          "base_uri": "https://localhost:8080/"
        },
        "id": "ykiWROQpXgKp",
        "outputId": "5af982dc-d591-4b89-b318-793144970de4"
      },
      "source": [
        "from sklearn.svm import SVC\n",
        "classifier = SVC(kernel = 'linear', C = 2)\n",
        "accuracies = cross_val_score(estimator = classifier, X = X_train, y = y_train, cv = 5)\n",
        "print(\"Accuracy: {:.2f} %\".format(accuracies.mean()*100))\n"
      ],
      "execution_count": 133,
      "outputs": [
        {
          "output_type": "stream",
          "text": [
            "Accuracy: 84.75 %\n"
          ],
          "name": "stdout"
        }
      ]
    },
    {
      "cell_type": "code",
      "metadata": {
        "colab": {
          "base_uri": "https://localhost:8080/"
        },
        "id": "QjNJ1xQdYny3",
        "outputId": "4c1896c7-af6b-4fdb-986b-a4df8098f408"
      },
      "source": [
        "classifier = SVC(kernel = 'poly',degree = 3, C = 2,random_state = 0)\n",
        "accuracies = cross_val_score(estimator = classifier, X = X_train, y = y_train, cv = 5)\n",
        "print(\"Accuracy: {:.2f} %\".format(accuracies.mean()*100))"
      ],
      "execution_count": 129,
      "outputs": [
        {
          "output_type": "stream",
          "text": [
            "Accuracy: 83.09 %\n"
          ],
          "name": "stdout"
        }
      ]
    },
    {
      "cell_type": "code",
      "metadata": {
        "colab": {
          "base_uri": "https://localhost:8080/"
        },
        "id": "EfnISHGIYre4",
        "outputId": "58b768a1-4dc1-439f-e57f-d29e16b2e90c"
      },
      "source": [
        "classifier = SVC(kernel = 'rbf', random_state = 0)\n",
        "accuracies = cross_val_score(estimator = classifier, X = X_train, y = y_train, cv = 5)\n",
        "print(\"Accuracy: {:.2f} %\".format(accuracies.mean()*100))"
      ],
      "execution_count": 130,
      "outputs": [
        {
          "output_type": "stream",
          "text": [
            "Accuracy: 83.51 %\n"
          ],
          "name": "stdout"
        }
      ]
    },
    {
      "cell_type": "markdown",
      "metadata": {
        "id": "Ohcn3WFz7aMy"
      },
      "source": [
        "## Random Forest"
      ]
    },
    {
      "cell_type": "code",
      "metadata": {
        "colab": {
          "base_uri": "https://localhost:8080/"
        },
        "id": "GHlk0w6YYzGN",
        "outputId": "d496772e-e06e-4511-f403-43ac8a4778e7"
      },
      "source": [
        "from sklearn.ensemble import RandomForestClassifier\n",
        "classifier = RandomForestClassifier(n_estimators = 50, criterion = 'entropy', max_depth=2,random_state = 0)\n",
        "accuracies = cross_val_score(estimator = classifier, X = X_train, y = y_train, cv = 5)\n",
        "print(\"Accuracy: {:.2f} %\".format(accuracies.mean()*100))"
      ],
      "execution_count": 131,
      "outputs": [
        {
          "output_type": "stream",
          "text": [
            "Accuracy: 83.94 %\n"
          ],
          "name": "stdout"
        }
      ]
    },
    {
      "cell_type": "markdown",
      "metadata": {
        "id": "AKjiq6Fx7duu"
      },
      "source": [
        "## Hyperparameter tunning"
      ]
    },
    {
      "cell_type": "markdown",
      "metadata": {
        "id": "QgNmM-CGIu9R"
      },
      "source": [
        "### SVM"
      ]
    },
    {
      "cell_type": "code",
      "metadata": {
        "id": "SmLle-QDZAzl"
      },
      "source": [
        "from sklearn.model_selection import GridSearchCV\n",
        "parameters = [{'C': [0.25, 0.5, 0.75, 1], 'kernel': ['linear']},\n",
        "              {'C': [0.25, 0.5, 0.75, 1], 'kernel': ['rbf'], 'gamma': [0.1, 0.2, 0.3, 0.4, 0.5, 0.6, 0.7, 0.8, 0.9]}]\n",
        "classifier = SVC()"
      ],
      "execution_count": 80,
      "outputs": []
    },
    {
      "cell_type": "code",
      "metadata": {
        "id": "hsJKRFkjJQhd"
      },
      "source": [
        "grid_search = GridSearchCV(estimator = classifier, param_grid = parameters, scoring='accuracy', cv = 5, n_jobs =- 1)"
      ],
      "execution_count": 81,
      "outputs": []
    },
    {
      "cell_type": "code",
      "metadata": {
        "colab": {
          "base_uri": "https://localhost:8080/"
        },
        "id": "cQL0r7UqJsPn",
        "outputId": "4eb455a2-5d0e-403c-e9c6-c72bd4ada6b1"
      },
      "source": [
        "grid_search.fit(X_train, y_train)"
      ],
      "execution_count": 82,
      "outputs": [
        {
          "output_type": "execute_result",
          "data": {
            "text/plain": [
              "GridSearchCV(cv=5, error_score=nan,\n",
              "             estimator=SVC(C=1.0, break_ties=False, cache_size=200,\n",
              "                           class_weight=None, coef0=0.0,\n",
              "                           decision_function_shape='ovr', degree=3,\n",
              "                           gamma='scale', kernel='rbf', max_iter=-1,\n",
              "                           probability=False, random_state=None, shrinking=True,\n",
              "                           tol=0.001, verbose=False),\n",
              "             iid='deprecated', n_jobs=-1,\n",
              "             param_grid=[{'C': [0.25, 0.5, 0.75, 1], 'kernel': ['linear']},\n",
              "                         {'C': [0.25, 0.5, 0.75, 1],\n",
              "                          'gamma': [0.1, 0.2, 0.3, 0.4, 0.5, 0.6, 0.7, 0.8,\n",
              "                                    0.9],\n",
              "                          'kernel': ['rbf']}],\n",
              "             pre_dispatch='2*n_jobs', refit=True, return_train_score=False,\n",
              "             scoring='accuracy', verbose=0)"
            ]
          },
          "metadata": {
            "tags": []
          },
          "execution_count": 82
        }
      ]
    },
    {
      "cell_type": "code",
      "metadata": {
        "colab": {
          "base_uri": "https://localhost:8080/"
        },
        "id": "i3GsokzqJwp3",
        "outputId": "02a7187a-1474-42a4-a76f-bac5425afe46"
      },
      "source": [
        "best_accuracy = grid_search.best_score_\n",
        "best_parameters = grid_search.best_params_\n",
        "print(\"Best Accuracy: {:.2f} %\".format(best_accuracy*100))\n",
        "print(\"Best Parameters:\", best_parameters)"
      ],
      "execution_count": 83,
      "outputs": [
        {
          "output_type": "stream",
          "text": [
            "Best Accuracy: 85.99 %\n",
            "Best Parameters: {'C': 0.25, 'kernel': 'linear'}\n"
          ],
          "name": "stdout"
        }
      ]
    },
    {
      "cell_type": "markdown",
      "metadata": {
        "id": "Gxi7QXWZ7rks"
      },
      "source": [
        "### Random Forest"
      ]
    },
    {
      "cell_type": "code",
      "metadata": {
        "id": "Bm4NuzggKFUW"
      },
      "source": [
        "parameters ={\"criterion\" : ['gini', 'entropy'] ,\n",
        "             \"n_estimators\" : [30,50,70,90,110,150],\n",
        "        \"max_depth\" : [2,3,4,5]\n",
        "       }\n",
        "classifier \n",
        "classifier = RandomForestClassifier()\n",
        "grid_search = GridSearchCV(estimator = classifier, param_grid = parameters, scoring='accuracy', cv = 5, n_jobs =- 1)\n"
      ],
      "execution_count": 136,
      "outputs": []
    },
    {
      "cell_type": "code",
      "metadata": {
        "colab": {
          "base_uri": "https://localhost:8080/"
        },
        "id": "2PPVEAj9XT0P",
        "outputId": "5ba47381-bbd6-495e-87ab-6b2a7ca372f8"
      },
      "source": [
        "grid_search.fit(X_train, y_train)\n",
        "best_accuracy = grid_search.best_score_\n",
        "best_parameters = grid_search.best_params_\n",
        "print(\"Best Accuracy: {:.2f} %\".format(best_accuracy*100))\n",
        "print(\"Best Parameters:\", best_parameters)"
      ],
      "execution_count": 138,
      "outputs": [
        {
          "output_type": "stream",
          "text": [
            "Best Accuracy: 84.75 %\n",
            "Best Parameters: {'criterion': 'entropy', 'max_depth': 4, 'n_estimators': 90}\n"
          ],
          "name": "stdout"
        }
      ]
    },
    {
      "cell_type": "markdown",
      "metadata": {
        "id": "a8X9zTx-BG0J"
      },
      "source": [
        "The best models under the 5-fold cross validation were\n",
        "\n",
        "Model               | Accuracy \\\\\n",
        "Logistic Regression | 85.15% \\\\\n",
        "SVM (linear kernel) | 85.99% \\\\\n",
        "Random Forest       | 84.75 % \\\\"
      ]
    },
    {
      "cell_type": "markdown",
      "metadata": {
        "id": "4FYiuxSW6BD6"
      },
      "source": [
        "## Final models"
      ]
    },
    {
      "cell_type": "code",
      "metadata": {
        "colab": {
          "base_uri": "https://localhost:8080/"
        },
        "id": "szp5hB2leOa_",
        "outputId": "cd2a6966-8ade-418b-fa49-cec9319bf75e"
      },
      "source": [
        "lr = LogisticRegression(random_state=0)\n",
        "lr.fit(X_train, y_train)\n",
        "y_pred = lr.predict(X_test)\n",
        "lraccuracy = accuracy_score(y_test, y_pred)\n",
        "print(lraccuracy)"
      ],
      "execution_count": 132,
      "outputs": [
        {
          "output_type": "stream",
          "text": [
            "0.8852459016393442\n"
          ],
          "name": "stdout"
        }
      ]
    },
    {
      "cell_type": "code",
      "metadata": {
        "colab": {
          "base_uri": "https://localhost:8080/"
        },
        "id": "4N9iGA95ks0W",
        "outputId": "b3d342ac-3ee5-4c84-8454-caaef1af35f5"
      },
      "source": [
        "svm = SVC(kernel = 'linear', C = 0.25)\n",
        "svm.fit(X_train, y_train)\n",
        "y_pred = svm.predict(X_test)\n",
        "svmaccuracy = accuracy_score(y_test, y_pred)\n",
        "print(svmaccuracy)"
      ],
      "execution_count": 134,
      "outputs": [
        {
          "output_type": "stream",
          "text": [
            "0.8360655737704918\n"
          ],
          "name": "stdout"
        }
      ]
    },
    {
      "cell_type": "code",
      "metadata": {
        "colab": {
          "base_uri": "https://localhost:8080/"
        },
        "id": "wmN-IndI88QG",
        "outputId": "780ab587-cde1-4029-89b3-b7b65cdd64ca"
      },
      "source": [
        "rf = RandomForestClassifier(n_estimators = 90, criterion = 'entropy', max_depth = 4)\n",
        "rf.fit(X_train, y_train)\n",
        "y_pred = rf.predict(X_test)\n",
        "rfaccuracy = accuracy_score(y_test, y_pred)\n",
        "print(rfaccuracy)"
      ],
      "execution_count": 141,
      "outputs": [
        {
          "output_type": "stream",
          "text": [
            "0.8032786885245902\n"
          ],
          "name": "stdout"
        }
      ]
    },
    {
      "cell_type": "code",
      "metadata": {
        "id": "ErVG1I6y-PY_"
      },
      "source": [
        ""
      ],
      "execution_count": null,
      "outputs": []
    }
  ]
}